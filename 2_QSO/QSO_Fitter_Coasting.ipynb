{
 "cells": [
  {
   "cell_type": "markdown",
   "id": "327f9dce",
   "metadata": {},
   "source": [
    "### Fitting coasting cosmological model to the QSO database"
   ]
  },
  {
   "cell_type": "markdown",
   "id": "5c43c4a6",
   "metadata": {},
   "source": [
    "- The aim of this code is to constrain coasting cosmological models by fitting them to the QSO database. The fitting is performed using an MCMC algorithm that minimizes the $\\chi^2$ statistic based on the distance moduli calculated from the model and observed data. <br>\n",
    "The fitting process consists of two steps: <br>\n",
    "Step #1 - Finding outliers: With **SigmaClipping** set to True, outlier QSOs are identified through automatic sigma clipping over multiple iterations. <br>\n",
    "Step #2 - Constraining parameters: With **SigmaClipping** set to False, QSO and model parameters are constrained using only the non-discarded QSOs. <br>\n",
    "<br>\n",
    "<ins>Parameters:</ins> <br>\n",
    "- **SigmaClipping**: True or False. <br>\n",
    "$\\quad$ $\\quad$ True - Finding outliers, <br>\n",
    "$\\quad$ $\\quad$ False - Constraining QSO and model parameters. <br>\n",
    "- **ParamNames**: List of fitted parameters. The free parameters of QSOs ($\\gamma$, $\\beta$) and the model ($h = H_0/100,\\textrm{km},\\textrm{s}^{-1},\\textrm{Mpc}^{-1}$, the reduced Hubble constant) are fitted simultaneously. <br>\n",
    "- **Labels**: Formatted parameter names as they appear on the corner plot. <br>\n",
    "- **PriorInd**: Indices of parameters with non-uniform priors. Gaussian prior mean and sigma are specified in **parameter_priors_*Prefix*.txt**. Parameters not listed in **PriorInd** use uniform priors within the ranges defined in **parameter_limits.txt**, disregarding **parameter_priors_*Prefix*.txt**. The following setting was applied: <br>\n",
    "$\\quad$ $\\quad$ PriorInd = [2] - $H_0$ prior. <br>\n",
    "- **k**: Curvature parameter of the coasting model, in $H_0^2\\,c^{-2}$ units, set to -1, 0 or 1. <br>\n",
    "- **TrialNum**: Number of MCMC steps (integer). Based on preliminary runs, **TrialNum** is set to: <br>\n",
    "$\\quad$ $\\quad$ 5,000,000 if **SigmaClipping** = True, <br>\n",
    "$\\quad$ $\\quad$ 50,000,000 if **SigmaClipping** = False. <br>\n",
    "- **printstep**: Displays the number of steps and elapsed time in seconds after every **printstep** steps in the MCMC process. **printstep** must be an integer. <br>\n",
    "- **burn**: Burn-in period (integer). The first **burn** steps are discarded to determine optimal parameters. Based on preliminary runs, **burn** is set to 100,000 steps for all coasting models. <br>\n",
    "- **bins**: Number of bins for the histograms on the corner plot. <br>\n",
    "<br>\n",
    "<ins>Calculated parameters:</ins> <br>\n",
    "- **NumParams**: Number of fitted parameters, equal to the length of **ParamNames**. <br>\n",
    "- **Prefix**: String used to distinguish different fitted models, based on the curvature parameter and any parameters with priors. It is appended to the generated filenames. If **SigmaClipping** is True, **Prefix** is further extended with **sc _IterationNumber_**. <br>\n",
    "<br>\n",
    "<ins>Input files</ins> (Must be in the same folder as this code!): <br>\n",
    "- **parameter_limits.txt**: Defines parameter space boundaries (column #1: lower, column #2: upper boundary) to be explored in the fitting process, as well as the step length (column #3) applied by the MCMC algorithm along the different dimensions of the parameter space. Each row corresponds to one fitted parameter, in the same order defined in **ParamNames**. Data from txt is loaded into **parameter_limits**. <br>\n",
    "- **parameter_priors_*Prefix*.txt**: Specifies Gaussian prior mean (column #1) and sigma (column #2: left, column #3: right uncertainty) for fitted parameters. Each row corresponds to a parameter, following the order in **ParamNames**. Only rows with indices in **PriorInd** are used. Data from txt is loaded into **parameter_priors**, where the average of left and right uncertainties is calculated. This mean uncertainty is used during the **MCMC** algorithm. Prior was applied for one parameter: <br>\n",
    "$\\quad$ $\\quad$ $H_0$ prior: Value and uncertainty for $H_0$, obtained from fitting the corresponding coasting model to the SNIa database with $M_B+H_0$ prior. <br>\n",
    "- **QSO_data.txt**: QSO database, available in 'table3.dat' at http://cdsarc.u-strasbg.fr/viz-bin/cat/J/A+A/642/A150. Data is stored in **QSO_data**, where the entire database is restricted to the following columns: <br>\n",
    "$\\quad$ $\\quad$ #4: z - redshift, <br>\n",
    "$\\quad$ $\\quad$ #5: logFUV - rest-frame flux at 2500 Angstroem in units of log(erg/s/cm^2), <br>\n",
    "$\\quad$ $\\quad$ #6: e_logFUV -  error on rest-frame flux at 2500 Angstroem, <br>\n",
    "$\\quad$ $\\quad$ #7: logFX - rest-frame flux at 2keV in units of log(erg/s/cm^2), <br>\n",
    "$\\quad$ $\\quad$ #8: e_logFX - error on rest-frame flux at 2keV. <br>\n",
    "<br>\n",
    "<ins>Functions:</ins> <br>\n",
    "- **Mu_measured**: Returns the distance moduli (array **mu_meas**) and its sigma-squared (array **mu_meas_ssq**) for each QSO, calculated from the measurement data using the following parameters: <br>\n",
    "$\\quad$ $\\quad$ logFUV, logFUV_s, logFX, logFX_s: measured data, comes from the array **QSO_data**, <br>\n",
    "$\\quad$ $\\quad$ r_logFUV_logFX: Pearson correlation coefficient between logFUV and logFX, that is used in calculating the covariant term in **mu_meas_ssq**, <br>\n",
    "$\\quad$ $\\quad$ gamma, beta: free QSO parameters. <br>\n",
    "- **Mu_theory**: Returns the distance moduli for each QSO (array **mu_th**) calculated from the cosmological model using the following parameters: <br>\n",
    "$\\quad$ $\\quad$ z : redshift - measured data, comes from the array **QSO_data**, <br>\n",
    "$\\quad$ $\\quad$ h : reduced Hubble constant - free parameter of the model, <br>\n",
    "$\\quad$ $\\quad$ k : curvature parameter - must be set in Parameters, <br>\n",
    "$\\quad$ $\\quad$ c : speed of light in vacuum expressed in m/s units - hardcoded parameter. <br>\n",
    "- **ChiCalculator**: Calculates and returns $\\chi^2$ for each QSO (array **Chi**) from **mu_meas**, **mu_meas_ssq** and **mu_th**. <br>\n",
    "<br>\n",
    "<ins>MCMC algorithm:</ins> <br>\n",
    "- In the **MCMC** function we start from a randomly chosen point in parameter space, with coordinates drawn uniformly between parameter boundaries, and compute the initial $\\chi^2$ statistic (**OutStat**). <br>\n",
    "We then take **TrialNum** steps, each time calculating the $\\chi^2$ statistic (**TestOutStat**) with updated parameters (**TestParams**). Each step involves randomly selecting a parameter (**ParamInd**) and choosing a step length from a Gaussian distribution with zero mean and sigma defined in **parameter_limits** (**RandStepParam**). If a step moves out of bounds, we adjust in the opposite direction. <br>\n",
    "Steps are accepted with probability 1 if $\\chi^2$ improves, or with probability **a** if it worsens. Otherwise the new step is rejected and we keep the previous step's parameters. The acceptance probability **a** includes a factor **b**, based on prior knowledge of the parameter we stepped with, otherwise **b** is 1. <br>\n",
    "Each step is recorded in the file **OutMatrix_*Prefix*.txt**. <br>\n",
    "<br>\n",
    "<ins>Optimal parameter values:</ins> <br>\n",
    "- **OptPar** function determines optimal parameters with left and right uncertainties as the 0.5, 0.16 and 0.84 quantiles. It processes values from **OutMatrix_*Prefix*.txt**, excluding the first **burn** steps. The result is written in a file named **params_*Prefix*.txt**. <br>\n",
    "<br>\n",
    "<ins>Sigma clipping:</ins> <br>\n",
    "- If **SigmaClipping** is True, sigma clipping is applied automatically (function **Sigma_Clipping**), with multiple iterations per fitting process. After each iteration, QSOs with distance moduli deviating more than 3 sigma from the model, based on the current parameters, are filtered out. <br>\n",
    "<br>\n",
    "<ins>RunThis:</ins> <br>\n",
    "- If **SigmaClipping** is True, the function **RunThis** executes the entire iteration process by calling **MCMC**, **OptPar** and **Sigma_Clipping**. The string **sc** along with the current iteration number (**IterationNumber**) is appended to filenames. An automatically generated file **outfiltered_*Prefix*.txt** records the iteration number at which each QSO was discarded (or 0 if not rejected). The start and end of each iteration, along with the count of outfiltered QSOs, are displayed on screen. The process continues until no more outliers are found. <br>\n",
    "- If **SigmaClipping** is False, the function **RunThis** calls **MCMC** and **OptPar** using the non-discarded QSOs only. <br>\n",
    "<br>\n",
    "<ins>Output files</ins> (Generated in the same location as the code.): <br>\n",
    "- **OutMatrix_*Prefix*.txt**: MCMC output containing parameter values and $\\chi^2$ statistics. It has # parameters + 1 columns and TrialNum + 1 rows (including the initial configuration), with a new line added after each step. During Step #1 when **SigmaClipping** is True, a new file is created for each iteration, distinguished by appending **sc _IterationNumber_** to the filename. In Step #2 one such file is created. <br>\n",
    "- **outfiltered_*Prefix*.txt**: Matches the QSO database in rows and records the IterationNumber when each QSO was rejected. Only one such file is created during Step #1 when **SigmaClipping** is True, and this file is used in Step #2. <br>\n",
    "- **params_*Prefix*.txt**: Contains parameter values (column #1) and uncertainties (columns #2: left, #3: right), with rows corresponding to parameters in the order defined by **ParamNames**. During Step #1 when **SigmaClipping** is True, a new file is created for each iteration, distinguished by appending **sc _IterationNumber_** to the filename. In Step #2 one such file is created. <br>\n",
    "- **opt_params_*Prefix*.png**: Corner plot of the fitted parameters, generated at the conclusion of Step #2."
   ]
  },
  {
   "cell_type": "code",
   "execution_count": 1,
   "id": "02806ec1",
   "metadata": {},
   "outputs": [],
   "source": [
    "import numpy as np\n",
    "import matplotlib.pyplot as plt\n",
    "import random\n",
    "import os\n",
    "import time\n",
    "import corner"
   ]
  },
  {
   "cell_type": "markdown",
   "id": "29da7f22",
   "metadata": {},
   "source": [
    "#### Parameters"
   ]
  },
  {
   "cell_type": "code",
   "execution_count": 3,
   "id": "f2fb8914",
   "metadata": {},
   "outputs": [
    {
     "name": "stdout",
     "output_type": "stream",
     "text": [
      "_k0_h-SNMBhprior\n"
     ]
    }
   ],
   "source": [
    "SigmaClipping = True\n",
    "ParamNames    = ['gamma','beta','h']\n",
    "Labels        = [r'$\\gamma$',r'$\\beta$',r'$h$']\n",
    "PriorInd      = [2]\n",
    "k             = 0\n",
    "TrialNum      = int((5 if SigmaClipping else 50) * 1e6)\n",
    "printstep     = int(TrialNum/10)\n",
    "burn          = 100000\n",
    "bins          = 100\n",
    "#############################################################################################\n",
    "NumParams     = len(ParamNames)\n",
    "Prefix        = '_k' + str(int(k)) + '_' + ''.join([ParamNames[i] for i in PriorInd]) + '-SNMBhprior'\n",
    "print(Prefix)"
   ]
  },
  {
   "cell_type": "markdown",
   "id": "9b3ef50f",
   "metadata": {},
   "source": [
    "#### Input files"
   ]
  },
  {
   "cell_type": "code",
   "execution_count": 4,
   "id": "4aafc1af",
   "metadata": {},
   "outputs": [],
   "source": [
    "parameter_limits  = np.genfromtxt('parameter_limits.txt', delimiter='\\t')\n",
    "parameter_priors1 = np.genfromtxt('parameter_priors' + Prefix + '.txt', delimiter='\\t')\n",
    "sigma_mean        = [np.mean([parameter_priors1[i][1],parameter_priors1[i][2]]) for i in range(len(parameter_priors1))]\n",
    "parameter_priors  = np.insert(parameter_priors1, 1, sigma_mean, axis=1)\n",
    "QSO_data_orig     = np.genfromtxt('QSO_data.txt', delimiter='\\t')\n",
    "QSO_data          = QSO_data_orig[QSO_data_orig[:,0].argsort(kind='mergesort')]\n",
    "del parameter_priors1, QSO_data_orig"
   ]
  },
  {
   "cell_type": "markdown",
   "id": "68cdb64f",
   "metadata": {},
   "source": [
    "#### Functions"
   ]
  },
  {
   "cell_type": "code",
   "execution_count": 5,
   "id": "a37fb1cd",
   "metadata": {},
   "outputs": [],
   "source": [
    "c = 299792458\n",
    "r_logFUV_logFX = np.corrcoef(QSO_data[:,1], QSO_data[:,3])[0][1]\n",
    "\n",
    "def Mu_measured(QSO_dat, Params):    \n",
    "    [z, logFUV, logFUV_s, logFX, logFX_s] = [QSO_dat[:,i] for i in range(len(QSO_dat[0]))]     \n",
    "    [gamma, beta, h]                      = [Params[i] for i in range(NumParams)]  \n",
    "    mu_meas     = (5/(2*(gamma-1)))*(logFX-gamma*logFUV) - beta    \n",
    "    mu_meas_ssq = ((5/(2*(gamma-1)))**2) * (logFX_s**2 + gamma**2 * logFUV_s**2 - \\\n",
    "                  2*gamma * r_logFUV_logFX * logFX_s * logFUV_s)   \n",
    "    return mu_meas, mu_meas_ssq\n",
    "\n",
    "def Mu_theory(QSO_dat, Params):    \n",
    "    [z, logFUV, logFUV_s, logFX, logFX_s] = [QSO_dat[:,i] for i in range(len(QSO_dat[0]))]     \n",
    "    [gamma, beta, h]                      = [Params[i] for i in range(NumParams)]    \n",
    "    if k == 0:\n",
    "        mu_th = 5 * np.log10(c*(1+z) * np.log(1+z)) - 5 * np.log10(h)\n",
    "    elif k == 1:\n",
    "        mu_th = 5 * np.log10(c*(1+z) * np.sin(np.log(1+z))) - 5 * np.log10(h)\n",
    "    elif k == -1:\n",
    "        mu_th = 5 * np.log10(c*(1+z) * np.sinh(np.log(1+z))) - 5 * np.log10(h)\n",
    "    return mu_th\n",
    "\n",
    "def ChiCalculator(QSO_dat, Params):    \n",
    "    mu_meas, mu_meas_ssq = Mu_measured(QSO_dat, Params)\n",
    "    mu_th                = Mu_theory(QSO_dat, Params)    \n",
    "    Chi                  = ((mu_meas - mu_th)**2)/mu_meas_ssq    \n",
    "    return Chi"
   ]
  },
  {
   "cell_type": "markdown",
   "id": "0867cfff",
   "metadata": {},
   "source": [
    "#### MCMC algorithm"
   ]
  },
  {
   "cell_type": "code",
   "execution_count": null,
   "id": "e48401a7",
   "metadata": {},
   "outputs": [],
   "source": [
    "def MCMC(QSO_dat, Prefix):\n",
    "    \n",
    "    # Initial configuration\n",
    "    Params        = np.empty(NumParams)\n",
    "    for i in range(NumParams):\n",
    "        Params[i] = parameter_limits[i][0] + (parameter_limits[i][1] - parameter_limits[i][0]) * random.random()\n",
    "    OutStat       = sum(ChiCalculator(QSO_dat, Params))\n",
    "    Params_out    = np.append(Params, OutStat)\n",
    "    np.savetxt('OutMatrix' + Prefix + '.txt', Params_out, newline=' ') \n",
    "        \n",
    "    # Wandering within the the parameter space for TrialNum steps\n",
    "    for j in range(TrialNum):\n",
    "        if j/printstep == np.floor(j/printstep):\n",
    "            start = time.time()\n",
    "        \n",
    "        Test_Params   = Params.copy()\n",
    "        ParamInd      = random.randint(1, NumParams)-1        \n",
    "        RandStepParam = parameter_limits[ParamInd][2] * random.gauss(0,1)\n",
    "        \n",
    "        if parameter_limits[ParamInd][0] <= Test_Params[ParamInd]+RandStepParam <= parameter_limits[ParamInd][1]:\n",
    "            Test_Params[ParamInd]   = Test_Params[ParamInd] + RandStepParam\n",
    "        else: Test_Params[ParamInd] = Test_Params[ParamInd] - RandStepParam            \n",
    "        \n",
    "        Test_OutStat = sum(ChiCalculator(QSO_dat, Test_Params))\n",
    "\n",
    "        if ParamInd in PriorInd:\n",
    "            b = np.exp(((Params[ParamInd]      - parameter_priors[ParamInd][0])**2 - \\\n",
    "                        (Test_Params[ParamInd] - parameter_priors[ParamInd][0])**2) / \\\n",
    "                        (2 * parameter_priors[ParamInd][1]**2))\n",
    "        else: b = 1\n",
    "   \n",
    "        a = np.exp(-(Test_OutStat-OutStat)/2) * b\n",
    "        p = random.random()\n",
    "        if a >= p:\n",
    "            OutStat = Test_OutStat\n",
    "            Params  = Test_Params\n",
    "\n",
    "        Params_out   = np.append(Params, OutStat)\n",
    "        with open('OutMatrix' + Prefix + '.txt','a') as f:\n",
    "            f.write('\\n')\n",
    "            np.savetxt(f, Params_out, newline=' ')\n",
    "                \n",
    "        if (j+1)/printstep == np.floor((j+1)/printstep):\n",
    "            end = time.time()\n",
    "            print(j+1, end-start)"
   ]
  },
  {
   "cell_type": "markdown",
   "id": "e703d518",
   "metadata": {},
   "source": [
    "#### Optimal parameter values"
   ]
  },
  {
   "cell_type": "code",
   "execution_count": null,
   "id": "453b0cda",
   "metadata": {},
   "outputs": [],
   "source": [
    "def OptPar(Prefix):\n",
    "    \n",
    "    OutMatrix = np.genfromtxt('OutMatrix' + Prefix + '.txt', delimiter=' ')\n",
    "    OutM      = OutMatrix[:,range(NumParams)][burn:]    \n",
    "    quantiles = [0.16, 0.5, 0.84]\n",
    "    \n",
    "    OptParams = []\n",
    "    for i in range(NumParams):\n",
    "        opt       = corner.quantile(OutM[:,i],quantiles)\n",
    "        OptParams = OptParams + [[opt[1], opt[1]-opt[0], opt[2]-opt[1]]]\n",
    "    np.savetxt('params' + Prefix + '.txt', OptParams, delimiter='\\t')\n",
    "    \n",
    "    if SigmaClipping == False:\n",
    "        figure = corner.corner(OutM, bins=bins, labels=Labels, quantiles=quantiles, show_titles=True, title_fmt='.4f', title_kwargs={\"fontsize\": 12})\n",
    "        figure.savefig('opt_params' + Prefix + '.png')"
   ]
  },
  {
   "cell_type": "markdown",
   "id": "101d7a71",
   "metadata": {},
   "source": [
    "#### Sigma clipping"
   ]
  },
  {
   "cell_type": "code",
   "execution_count": null,
   "id": "dbdce229",
   "metadata": {},
   "outputs": [],
   "source": [
    "def Sigma_Clipping(Prefix, Prefix2, IterationNumber):\n",
    "    \n",
    "    Params        = np.genfromtxt('params' + Prefix2 + '.txt')[:,0]\n",
    "    Chi           = ChiCalculator(QSO_data, Params)\n",
    "    outf          = np.sqrt(Chi) > 3\n",
    "    \n",
    "    Outfiltered   = np.genfromtxt('outfiltered' + Prefix + '.txt')\n",
    "    for i in range(len(Outfiltered)):\n",
    "        if (Outfiltered[i] == 0 and outf[i] == True):\n",
    "            Outfiltered[i] = IterationNumber    \n",
    "    np.savetxt('outfiltered' + Prefix + '.txt', Outfiltered)"
   ]
  },
  {
   "cell_type": "markdown",
   "id": "6edeb675",
   "metadata": {},
   "source": [
    "#### RunThis"
   ]
  },
  {
   "cell_type": "code",
   "execution_count": null,
   "id": "9ab11fed",
   "metadata": {},
   "outputs": [],
   "source": [
    "def RunThis():\n",
    "    \n",
    "    if SigmaClipping:    \n",
    "        IterationNumber = 0\n",
    "        OutfiltCount    = 1\n",
    "    \n",
    "        while OutfiltCount > 0:\n",
    "        \n",
    "            IterationNumber += 1\n",
    "            print('Start iteration #' + str(IterationNumber))\n",
    "            \n",
    "            Prefix2 = Prefix + '_sc' + str(IterationNumber)\n",
    "        \n",
    "            if IterationNumber == 1:\n",
    "                np.savetxt('outfiltered' + Prefix + '.txt', [0 for i in range(len(QSO_data))])\n",
    "                Data         = QSO_data\n",
    "            else:\n",
    "                Outfiltered  = np.genfromtxt('outfiltered' + Prefix + '.txt')\n",
    "                Data         = QSO_data[Outfiltered == 0]\n",
    "              \n",
    "            MCMC(Data, Prefix2)\n",
    "            OptPar(Prefix2)\n",
    "            Sigma_Clipping(Prefix, Prefix2, IterationNumber)\n",
    "        \n",
    "            Outfiltered  = np.genfromtxt('outfiltered' + Prefix + '.txt')\n",
    "            OutfiltCount = sum(Outfiltered == IterationNumber)\n",
    "        \n",
    "            print('End iteration #' + str(IterationNumber) + '; Outfiltered: ' + str(OutfiltCount))\n",
    "        \n",
    "    else:\n",
    "        Outfiltered  = np.genfromtxt('outfiltered' + Prefix + '.txt')\n",
    "        Data         = QSO_data[Outfiltered == 0]\n",
    "        \n",
    "        MCMC(Data, Prefix)\n",
    "        OptPar(Prefix)"
   ]
  },
  {
   "cell_type": "code",
   "execution_count": null,
   "id": "3466f124",
   "metadata": {},
   "outputs": [],
   "source": [
    "RunThis()"
   ]
  }
 ],
 "metadata": {
  "kernelspec": {
   "display_name": "Python 3 (ipykernel)",
   "language": "python",
   "name": "python3"
  },
  "language_info": {
   "codemirror_mode": {
    "name": "ipython",
    "version": 3
   },
   "file_extension": ".py",
   "mimetype": "text/x-python",
   "name": "python",
   "nbconvert_exporter": "python",
   "pygments_lexer": "ipython3",
   "version": "3.9.13"
  }
 },
 "nbformat": 4,
 "nbformat_minor": 5
}
